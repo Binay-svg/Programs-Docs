{
 "cells": [
  {
   "cell_type": "markdown",
   "id": "e23ac2b0-fa08-4cf6-8938-8410c6f9d24f",
   "metadata": {},
   "source": [
    "#Data Science Tools and Ecosystem"
   ]
  },
  {
   "cell_type": "markdown",
   "id": "3b27e2b5-fbf9-42b3-aca6-cd51db1a629c",
   "metadata": {},
   "source": [
    "In this notebook, Data Science Tools and Ecosystem are summarized."
   ]
  },
  {
   "cell_type": "markdown",
   "id": "5742dc0e-0fab-4ed8-bcad-895d2dae7cdf",
   "metadata": {},
   "source": [
    "__Objectives:__\r",
    "- \r\n",
    "List popular languages for Data Scienc- e\r\n",
    "Some of the commonly used libraries used by Data Scientis- ts\r\n",
    "Data Science t- ool\r\n",
    "Arithmetic expression Minute to hour conversion"
   ]
  },
  {
   "cell_type": "markdown",
   "id": "13da5a21-f606-406a-932e-6018ae3f5462",
   "metadata": {},
   "source": [
    "Some of the popular languages that Data Scientists use are:\n",
    "1. R\n",
    "2. SQL\n",
    "3. Python"
   ]
  },
  {
   "cell_type": "markdown",
   "id": "05361a5c-c93c-498f-a4f8-52ebfca3b580",
   "metadata": {},
   "source": [
    "Some of the commonly used libraries used by Data Scientists include:\n",
    "1. ggplot2\n",
    "2. Numpy\n",
    "3. Dplyr"
   ]
  },
  {
   "cell_type": "markdown",
   "id": "47760131-7824-41a9-a98b-42f6a3745b78",
   "metadata": {},
   "source": [
    "| Data Science Tools |\n",
    "|--------------------|\n",
    "|  Jupyter Notebook  |\n",
    "|  R Studio          |\n",
    "|  Visual Studio Code|"
   ]
  },
  {
   "attachments": {},
   "cell_type": "markdown",
   "id": "8157c3de-4417-41ed-82ef-6a76e2018bf4",
   "metadata": {},
   "source": [
    "### Below are a few examples of evaluating arithmetic expressions in Python"
   ]
  },
  {
   "cell_type": "code",
   "execution_count": 1,
   "id": "4b1fd2cf-1414-4190-aa97-99fcb544dd41",
   "metadata": {},
   "outputs": [
    {
     "data": {
      "text/plain": [
       "17"
      ]
     },
     "execution_count": 1,
     "metadata": {},
     "output_type": "execute_result"
    }
   ],
   "source": [
    "# This a simple arithmetic expression to mutiply then add integers\n",
    "(3*4)+5"
   ]
  },
  {
   "cell_type": "code",
   "execution_count": 2,
   "id": "8b85ac69-b7bf-40b3-b82b-930da2ca6e42",
   "metadata": {},
   "outputs": [
    {
     "name": "stdout",
     "output_type": "stream",
     "text": [
      "3.3333333333333335\n"
     ]
    }
   ],
   "source": [
    "# This will convert 200 minutes to hours by diving by 60\n",
    "minutes = 200\n",
    "hours = minutes / 60\n",
    "print (hours)"
   ]
  },
  {
   "cell_type": "markdown",
   "id": "d25617ed-79e0-433a-ab08-e1b4ebfc0bf8",
   "metadata": {},
   "source": [
    "## Author\n",
    "Binay Mishra"
   ]
  }
 ],
 "metadata": {
  "kernelspec": {
   "display_name": "Python 3 (ipykernel)",
   "language": "python",
   "name": "python3"
  },
  "language_info": {
   "codemirror_mode": {
    "name": "ipython",
    "version": 3
   },
   "file_extension": ".py",
   "mimetype": "text/x-python",
   "name": "python",
   "nbconvert_exporter": "python",
   "pygments_lexer": "ipython3",
   "version": "3.11.7"
  }
 },
 "nbformat": 4,
 "nbformat_minor": 5
}
